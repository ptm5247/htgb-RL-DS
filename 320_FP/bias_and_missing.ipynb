{
 "cells": [
  {
   "cell_type": "code",
   "execution_count": 8,
   "metadata": {},
   "outputs": [],
   "source": [
    "from pre_processing import aggregate\n",
    "from display_lib import html_table, ranks\n",
    "import os\n",
    "import pandas as pd"
   ]
  },
  {
   "cell_type": "code",
   "execution_count": 9,
   "metadata": {},
   "outputs": [
    {
     "name": "stdout",
     "output_type": "stream",
     "text": [
      "Error with summaries\\Bronze\\83e60134-c175-422f-a48d-5659ce2de70a: 'duration'\n",
      "Error with summaries\\GC\\439c9822-992c-4d97-bc9b-d5539a02c878: 'match_guid'\n",
      "Error with summaries\\GC\\64b54590-ba50-4c20-9157-5521a05a7819: 'match_guid'\n",
      "Error with summaries\\GC\\7b4e0791-4115-4dca-a361-eb62c7bc5c39: 'match_guid'\n",
      "Error with summaries\\GC\\cd6ec699-9867-428a-93f0-376a5919bf0b: 'match_guid'\n",
      "Missing Values: 0\n"
     ]
    }
   ],
   "source": [
    "# aggregate the data under the chosen metrics\n",
    "data = aggregate()\n",
    "\n",
    "# count the number of explicitly missing values\n",
    "print(f'Missing Values: {data.isna().sum().sum()}')"
   ]
  },
  {
   "cell_type": "code",
   "execution_count": 10,
   "metadata": {},
   "outputs": [
    {
     "data": {
      "text/markdown": [
       "<table style=\"margin-left:auto;margin-right:auto;\"><tr><td></td><td style=\"text-align:center\"><b>Bronze</b></td><td style=\"text-align:center\"><b>Silver</b></td><td style=\"text-align:center\"><b>Gold</b></td><td style=\"text-align:center\"><b>Plat</b></td><td style=\"text-align:center\"><b>Diamond</b></td><td style=\"text-align:center\"><b>Champ</b></td><td style=\"text-align:center\"><b>GC</b></td><td style=\"text-align:center\"><b>SSL</b></td></tr><tr><td style=\"text-align:center\"><b>Total Matches</b></td><td style=\"text-align:center\">180</td><td style=\"text-align:center\">933</td><td style=\"text-align:center\">2877</td><td style=\"text-align:center\">3184</td><td style=\"text-align:center\">3185</td><td style=\"text-align:center\">3185</td><td style=\"text-align:center\">3185</td><td style=\"text-align:center\">3183</td></tr><tr><td style=\"text-align:center\"><b>Duplicates</b></td><td style=\"text-align:center\">7</td><td style=\"text-align:center\">0</td><td style=\"text-align:center\">0</td><td style=\"text-align:center\">9</td><td style=\"text-align:center\">35</td><td style=\"text-align:center\">82</td><td style=\"text-align:center\">130</td><td style=\"text-align:center\">174</td></tr><tr><td style=\"text-align:center\"><b>Short Matches</b></td><td style=\"text-align:center\">106</td><td style=\"text-align:center\">215</td><td style=\"text-align:center\">470</td><td style=\"text-align:center\">361</td><td style=\"text-align:center\">268</td><td style=\"text-align:center\">204</td><td style=\"text-align:center\">145</td><td style=\"text-align:center\">154</td></tr><tr><td style=\"text-align:center\"><b>Remaining Matches</b></td><td style=\"text-align:center\">67</td><td style=\"text-align:center\">718</td><td style=\"text-align:center\">2407</td><td style=\"text-align:center\">2814</td><td style=\"text-align:center\">2882</td><td style=\"text-align:center\">2899</td><td style=\"text-align:center\">2910</td><td style=\"text-align:center\">2855</td></tr></table>"
      ],
      "text/plain": [
       "<IPython.core.display.Markdown object>"
      ]
     },
     "metadata": {},
     "output_type": "display_data"
    }
   ],
   "source": [
    "# find the number of downloaded summaries for each rank\n",
    "tot = dict((r.split('\\\\')[-1], len(f)) for r, _, f in os.walk('summaries'))\n",
    "dup, dur, rem = {}, {}, {}\n",
    "\n",
    "for rank, df in data['duration'][::2].groupby('rank'):\n",
    "  # determine the number of duplicated matches\n",
    "  dup[rank] = tot[rank] - len(df)\n",
    "  # determine the number of matches less than half the length of a full match\n",
    "  dur[rank] = (df < 150).sum()\n",
    "  rem[rank] = len(df) - dur[rank]\n",
    "\n",
    "# drop matches which were less than half the length of a full match\n",
    "data['duration'].where(data['duration'] > 150, pd.NA, inplace=True)\n",
    "data.dropna(inplace=True)\n",
    "\n",
    "# display a table with the calculated values\n",
    "html_table(ranks, [\n",
    "  ('Total Matches', tot),\n",
    "  ('Duplicates', dup),\n",
    "  ('Short Matches', dur),\n",
    "  ('Remaining Matches', rem)\n",
    "])"
   ]
  },
  {
   "cell_type": "code",
   "execution_count": 11,
   "metadata": {},
   "outputs": [],
   "source": [
    "# save the updated data table\n",
    "data.to_pickle('summaries\\\\data_frame')"
   ]
  }
 ],
 "metadata": {
  "interpreter": {
   "hash": "369f2c481f4da34e4445cda3fffd2e751bd1c4d706f27375911949ba6bb62e1c"
  },
  "kernelspec": {
   "display_name": "Python 3.10.0 64-bit",
   "language": "python",
   "name": "python3"
  },
  "language_info": {
   "codemirror_mode": {
    "name": "ipython",
    "version": 3
   },
   "file_extension": ".py",
   "mimetype": "text/x-python",
   "name": "python",
   "nbconvert_exporter": "python",
   "pygments_lexer": "ipython3",
   "version": "3.10.0"
  },
  "orig_nbformat": 4
 },
 "nbformat": 4,
 "nbformat_minor": 2
}
