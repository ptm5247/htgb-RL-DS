{
 "cells": [
  {
   "cell_type": "code",
   "execution_count": 1,
   "metadata": {},
   "outputs": [],
   "source": [
    "import pickle\n",
    "import numpy as np\n",
    "from display_lib import html_table"
   ]
  },
  {
   "cell_type": "code",
   "execution_count": 2,
   "metadata": {},
   "outputs": [],
   "source": [
    "with open('summaries\\\\models', 'rb') as f:\n",
    "  cube_models, diff_models = pickle.load(f)"
   ]
  },
  {
   "cell_type": "code",
   "execution_count": 3,
   "metadata": {},
   "outputs": [
    {
     "data": {
      "text/markdown": [
       "<table style=\"margin-left:auto;margin-right:auto;\"><tr><td></td><td style=\"text-align:center\"><b>R Squared</b></td><td style=\"text-align:center\"><b>P(const = 0)</b></td><td style=\"text-align:center\"><b>P(x = 0)</b></td><td style=\"text-align:center\"><b>P(x^2 = 0)</b></td><td style=\"text-align:center\"><b>P(x^3 = 0)</b></td><td style=\"text-align:center\"><b>P(F)</b></td></tr><tr><td style=\"text-align:center\"><b>percent_supersonic_speed</b></td><td style=\"text-align:center\">0.5829</td><td style=\"text-align:center\">0.0</td><td style=\"text-align:center\">0.0</td><td style=\"text-align:center\">0.0</td><td style=\"text-align:center\">0.0</td><td style=\"text-align:center\">0.0</td></tr><tr><td style=\"text-align:center\"><b>avg_speed_percentage</b></td><td style=\"text-align:center\">0.4216</td><td style=\"text-align:center\">0.0</td><td style=\"text-align:center\">0.0</td><td style=\"text-align:center\">0.0</td><td style=\"text-align:center\">0.0</td><td style=\"text-align:center\">0.0</td></tr><tr><td style=\"text-align:center\"><b>percent_low_air</b></td><td style=\"text-align:center\">0.3972</td><td style=\"text-align:center\">0.0</td><td style=\"text-align:center\">0.0</td><td style=\"text-align:center\">0.0</td><td style=\"text-align:center\">0.0</td><td style=\"text-align:center\">0.0</td></tr><tr><td style=\"text-align:center\"><b>bpm</b></td><td style=\"text-align:center\">0.3591</td><td style=\"text-align:center\">0.0</td><td style=\"text-align:center\">0.0</td><td style=\"text-align:center\">0.0</td><td style=\"text-align:center\">0.0</td><td style=\"text-align:center\">0.0</td></tr><tr><td style=\"text-align:center\"><b>percent_slow_speed</b></td><td style=\"text-align:center\">0.3145</td><td style=\"text-align:center\">0.0</td><td style=\"text-align:center\">0.0</td><td style=\"text-align:center\">0.0</td><td style=\"text-align:center\">0.0057</td><td style=\"text-align:center\">0.0</td></tr><tr><td style=\"text-align:center\"><b>amount_collected</b></td><td style=\"text-align:center\">0.2628</td><td style=\"text-align:center\">0.0</td><td style=\"text-align:center\">0.0</td><td style=\"text-align:center\">0.0</td><td style=\"text-align:center\">0.0097</td><td style=\"text-align:center\">0.0</td></tr><tr><td style=\"text-align:center\"><b>avg_powerslide_duration</b></td><td style=\"text-align:center\">0.1331</td><td style=\"text-align:center\">0.0</td><td style=\"text-align:center\">0.0</td><td style=\"text-align:center\">0.0</td><td style=\"text-align:center\">0.0</td><td style=\"text-align:center\">0.0</td></tr><tr><td style=\"text-align:center\"><b>avg_distance_to_ball</b></td><td style=\"text-align:center\">0.1288</td><td style=\"text-align:center\">0.0</td><td style=\"text-align:center\">0.0</td><td style=\"text-align:center\">0.0193</td><td style=\"text-align:center\">0.0</td><td style=\"text-align:center\">0.0</td></tr><tr><td style=\"text-align:center\"><b>percent_behind_ball</b></td><td style=\"text-align:center\">0.087</td><td style=\"text-align:center\">0.0</td><td style=\"text-align:center\">0.0</td><td style=\"text-align:center\">0.0</td><td style=\"text-align:center\">0.084</td><td style=\"text-align:center\">0.0</td></tr><tr><td style=\"text-align:center\"><b>percent_offensive_third</b></td><td style=\"text-align:center\">0.01</td><td style=\"text-align:center\">0.0</td><td style=\"text-align:center\">0.0</td><td style=\"text-align:center\">0.8356</td><td style=\"text-align:center\">0.8267</td><td style=\"text-align:center\">0.0</td></tr><tr><td style=\"text-align:center\"><b>inflicted</b></td><td style=\"text-align:center\">0.0067</td><td style=\"text-align:center\">0.0</td><td style=\"text-align:center\">0.0</td><td style=\"text-align:center\">0.0</td><td style=\"text-align:center\">0.3121</td><td style=\"text-align:center\">0.0</td></tr><tr><td style=\"text-align:center\"><b>percent_defensive_third</b></td><td style=\"text-align:center\">0.0017</td><td style=\"text-align:center\">0.0</td><td style=\"text-align:center\">0.0</td><td style=\"text-align:center\">0.0826</td><td style=\"text-align:center\">0.0144</td><td style=\"text-align:center\">0.0</td></tr></table>"
      ],
      "text/plain": [
       "<IPython.core.display.Markdown object>"
      ]
     },
     "metadata": {},
     "output_type": "display_data"
    }
   ],
   "source": [
    "# calculate the indices to sort the model by rsquared\n",
    "k, v = zip(*cube_models.items())\n",
    "ind = np.flip(np.argsort([m.rsquared for m in v]))\n",
    "\n",
    "# format the data for the table\n",
    "cols = ['R Squared', 'P(const = 0)', 'P(x = 0)', 'P(x^2 = 0)', 'P(x^3 = 0)', 'P(F)']\n",
    "rows = np.array([\n",
    "  (k, dict(zip(cols, np.round([v.rsquared, *v.pvalues, v.f_pvalue], 4))))\n",
    "for k, v in cube_models.items()])\n",
    "\n",
    "html_table(cols, rows[ind])"
   ]
  },
  {
   "cell_type": "code",
   "execution_count": 7,
   "metadata": {},
   "outputs": [
    {
     "data": {
      "text/markdown": [
       "<table style=\"margin-left:auto;margin-right:auto;\"><tr><td></td><td style=\"text-align:center\"><b>R Squared</b></td><td style=\"text-align:center\"><b>P(const = 0)</b></td><td style=\"text-align:center\"><b>P(x = 0)</b></td><td style=\"text-align:center\"><b>P(F)</b></td></tr><tr><td style=\"text-align:center\"><b>percent_behind_ball</b></td><td style=\"text-align:center\">0.5537</td><td style=\"text-align:center\">0.0176</td><td style=\"text-align:center\">0.0</td><td style=\"text-align:center\">0.0</td></tr><tr><td style=\"text-align:center\"><b>avg_distance_to_ball</b></td><td style=\"text-align:center\">0.0663</td><td style=\"text-align:center\">0.0728</td><td style=\"text-align:center\">0.0</td><td style=\"text-align:center\">0.0</td></tr><tr><td style=\"text-align:center\"><b>avg_amount</b></td><td style=\"text-align:center\">0.058</td><td style=\"text-align:center\">0.0727</td><td style=\"text-align:center\">0.0</td><td style=\"text-align:center\">0.0</td></tr><tr><td style=\"text-align:center\"><b>amount_collected</b></td><td style=\"text-align:center\">0.0471</td><td style=\"text-align:center\">0.0539</td><td style=\"text-align:center\">0.0</td><td style=\"text-align:center\">0.0</td></tr><tr><td style=\"text-align:center\"><b>percent_high_air</b></td><td style=\"text-align:center\">0.0408</td><td style=\"text-align:center\">0.0716</td><td style=\"text-align:center\">0.0</td><td style=\"text-align:center\">0.0</td></tr><tr><td style=\"text-align:center\"><b>avg_speed_percentage</b></td><td style=\"text-align:center\">0.0205</td><td style=\"text-align:center\">0.0287</td><td style=\"text-align:center\">0.0</td><td style=\"text-align:center\">0.0</td></tr><tr><td style=\"text-align:center\"><b>bpm</b></td><td style=\"text-align:center\">0.0182</td><td style=\"text-align:center\">0.0284</td><td style=\"text-align:center\">0.0</td><td style=\"text-align:center\">0.0</td></tr><tr><td style=\"text-align:center\"><b>percent_slow_speed</b></td><td style=\"text-align:center\">0.0151</td><td style=\"text-align:center\">0.0259</td><td style=\"text-align:center\">0.0</td><td style=\"text-align:center\">0.0</td></tr><tr><td style=\"text-align:center\"><b>count_powerslide</b></td><td style=\"text-align:center\">0.0107</td><td style=\"text-align:center\">0.0328</td><td style=\"text-align:center\">0.0</td><td style=\"text-align:center\">0.0</td></tr><tr><td style=\"text-align:center\"><b>inflicted</b></td><td style=\"text-align:center\">0.0077</td><td style=\"text-align:center\">0.0204</td><td style=\"text-align:center\">0.0</td><td style=\"text-align:center\">0.0</td></tr><tr><td style=\"text-align:center\"><b>amount_used_while_supersonic</b></td><td style=\"text-align:center\">0.0048</td><td style=\"text-align:center\">0.025</td><td style=\"text-align:center\">0.0</td><td style=\"text-align:center\">0.0</td></tr><tr><td style=\"text-align:center\"><b>avg_powerslide_duration</b></td><td style=\"text-align:center\">0.0035</td><td style=\"text-align:center\">0.0186</td><td style=\"text-align:center\">0.0</td><td style=\"text-align:center\">0.0</td></tr><tr><td style=\"text-align:center\"><b>percent_supersonic_speed</b></td><td style=\"text-align:center\">0.0018</td><td style=\"text-align:center\">0.0205</td><td style=\"text-align:center\">0.0</td><td style=\"text-align:center\">0.0</td></tr><tr><td style=\"text-align:center\"><b>percent_low_air</b></td><td style=\"text-align:center\">0.0004</td><td style=\"text-align:center\">0.0216</td><td style=\"text-align:center\">0.0075</td><td style=\"text-align:center\">0.0075</td></tr></table>"
      ],
      "text/plain": [
       "<IPython.core.display.Markdown object>"
      ]
     },
     "metadata": {},
     "output_type": "display_data"
    }
   ],
   "source": [
    "# calculate the indices to sort the model by rsquared\n",
    "k, v = zip(*diff_models.items())\n",
    "ind = np.flip(np.argsort([m.rsquared for m in v]))\n",
    "\n",
    "# format the data for the table\n",
    "cols = ['R Squared', 'P(const = 0)', 'P(x = 0)', 'P(F)']\n",
    "rows = np.array([\n",
    "  (k, dict(zip(cols, np.round([v.rsquared, *v.pvalues, v.f_pvalue], 4))))\n",
    "for k, v in diff_models.items()])\n",
    "\n",
    "html_table(cols, rows[ind])"
   ]
  }
 ],
 "metadata": {
  "interpreter": {
   "hash": "369f2c481f4da34e4445cda3fffd2e751bd1c4d706f27375911949ba6bb62e1c"
  },
  "kernelspec": {
   "display_name": "Python 3.10.0 64-bit",
   "language": "python",
   "name": "python3"
  },
  "language_info": {
   "codemirror_mode": {
    "name": "ipython",
    "version": 3
   },
   "file_extension": ".py",
   "mimetype": "text/x-python",
   "name": "python",
   "nbconvert_exporter": "python",
   "pygments_lexer": "ipython3",
   "version": "3.10.0"
  },
  "orig_nbformat": 4
 },
 "nbformat": 4,
 "nbformat_minor": 2
}
